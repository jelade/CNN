{
  "cells": [
    {
      "cell_type": "markdown",
      "metadata": {
        "id": "view-in-github",
        "colab_type": "text"
      },
      "source": [
        "<a href=\"https://colab.research.google.com/github/jelade/CNN/blob/main/Jaleel_logistic_regression.ipynb\" target=\"_parent\"><img src=\"https://colab.research.google.com/assets/colab-badge.svg\" alt=\"Open In Colab\"/></a>"
      ]
    },
    {
      "cell_type": "code",
      "execution_count": 2,
      "metadata": {
        "id": "hqnl0AKVXIA4"
      },
      "outputs": [],
      "source": [
        "import matplotlib.pyplot\n",
        "import numpy.random\n",
        "import torch.utils.data\n",
        "import torchvision\n",
        "from torch import Tensor\n",
        "from torch.nn import Module\n",
        "from torch.utils.data import DataLoader\n",
        "from torchvision.datasets import MNIST\n",
        "from torchvision.transforms import ToTensor"
      ]
    },
    {
      "cell_type": "markdown",
      "metadata": {
        "id": "mCt-frpFH8oN"
      },
      "source": [
        "# Tutorial 1a. Logistic Regression\n",
        "\n",
        "In the first tutorial, we are going to train a logistic regressor on the MNIST dataset of handwritten digits. Next, we will turn this logistic regressor into a non-linear convolutional network."
      ]
    },
    {
      "cell_type": "code",
      "execution_count": 3,
      "metadata": {
        "id": "dzfEE578uSNp"
      },
      "outputs": [],
      "source": [
        "if torch.cuda.is_available():\n",
        "    DEVICE = \"cuda:0\"\n",
        "else:\n",
        "    DEVICE = \"cpu\""
      ]
    },
    {
      "cell_type": "markdown",
      "metadata": {
        "id": "CiL4TleiI3U9"
      },
      "source": [
        "## Loading Datasets\n",
        "\n",
        "The following code will load the MNIST dataset. Run it and inspect some of the images and their labels to confirm they are correct."
      ]
    },
    {
      "cell_type": "code",
      "execution_count": 4,
      "metadata": {
        "id": "GX_ky5qC--uv",
        "colab": {
          "base_uri": "https://localhost:8080/"
        },
        "outputId": "19cc353a-30e3-4d9a-93c5-77ae489912d9"
      },
      "outputs": [
        {
          "output_type": "stream",
          "name": "stdout",
          "text": [
            "Downloading http://yann.lecun.com/exdb/mnist/train-images-idx3-ubyte.gz\n",
            "Downloading http://yann.lecun.com/exdb/mnist/train-images-idx3-ubyte.gz to /tmp/mnist/MNIST/raw/train-images-idx3-ubyte.gz\n"
          ]
        },
        {
          "output_type": "stream",
          "name": "stderr",
          "text": [
            "100%|██████████| 9912422/9912422 [00:00<00:00, 21655866.04it/s]\n"
          ]
        },
        {
          "output_type": "stream",
          "name": "stdout",
          "text": [
            "Extracting /tmp/mnist/MNIST/raw/train-images-idx3-ubyte.gz to /tmp/mnist/MNIST/raw\n",
            "\n",
            "Downloading http://yann.lecun.com/exdb/mnist/train-labels-idx1-ubyte.gz\n",
            "Downloading http://yann.lecun.com/exdb/mnist/train-labels-idx1-ubyte.gz to /tmp/mnist/MNIST/raw/train-labels-idx1-ubyte.gz\n"
          ]
        },
        {
          "output_type": "stream",
          "name": "stderr",
          "text": [
            "100%|██████████| 28881/28881 [00:00<00:00, 7590431.34it/s]"
          ]
        },
        {
          "output_type": "stream",
          "name": "stdout",
          "text": [
            "Extracting /tmp/mnist/MNIST/raw/train-labels-idx1-ubyte.gz to /tmp/mnist/MNIST/raw\n",
            "\n",
            "Downloading http://yann.lecun.com/exdb/mnist/t10k-images-idx3-ubyte.gz\n"
          ]
        },
        {
          "output_type": "stream",
          "name": "stderr",
          "text": [
            "\n"
          ]
        },
        {
          "output_type": "stream",
          "name": "stdout",
          "text": [
            "Downloading http://yann.lecun.com/exdb/mnist/t10k-images-idx3-ubyte.gz to /tmp/mnist/MNIST/raw/t10k-images-idx3-ubyte.gz\n"
          ]
        },
        {
          "output_type": "stream",
          "name": "stderr",
          "text": [
            "100%|██████████| 1648877/1648877 [00:00<00:00, 25927948.70it/s]"
          ]
        },
        {
          "output_type": "stream",
          "name": "stdout",
          "text": [
            "Extracting /tmp/mnist/MNIST/raw/t10k-images-idx3-ubyte.gz to /tmp/mnist/MNIST/raw\n"
          ]
        },
        {
          "output_type": "stream",
          "name": "stderr",
          "text": [
            "\n"
          ]
        },
        {
          "output_type": "stream",
          "name": "stdout",
          "text": [
            "\n",
            "Downloading http://yann.lecun.com/exdb/mnist/t10k-labels-idx1-ubyte.gz\n",
            "Downloading http://yann.lecun.com/exdb/mnist/t10k-labels-idx1-ubyte.gz to /tmp/mnist/MNIST/raw/t10k-labels-idx1-ubyte.gz\n"
          ]
        },
        {
          "output_type": "stream",
          "name": "stderr",
          "text": [
            "100%|██████████| 4542/4542 [00:00<00:00, 11854716.10it/s]"
          ]
        },
        {
          "output_type": "stream",
          "name": "stdout",
          "text": [
            "Extracting /tmp/mnist/MNIST/raw/t10k-labels-idx1-ubyte.gz to /tmp/mnist/MNIST/raw\n",
            "\n"
          ]
        },
        {
          "output_type": "stream",
          "name": "stderr",
          "text": [
            "\n"
          ]
        }
      ],
      "source": [
        "train_dataloader = DataLoader(\n",
        "    dataset=MNIST(\n",
        "        root=\"/tmp/mnist\",\n",
        "        train=True,\n",
        "        transform=ToTensor(),\n",
        "        download=True,\n",
        "    ),\n",
        "    batch_size=64,\n",
        "    shuffle=True,\n",
        ")\n",
        "\n",
        "test_dataloader = DataLoader(\n",
        "    dataset=MNIST(\n",
        "        root=\"/tmp/mnist\",\n",
        "        train=False,\n",
        "        transform=ToTensor(),\n",
        "        download=True,\n",
        "    ),\n",
        "    batch_size=64,\n",
        "    shuffle=False,\n",
        ")"
      ]
    },
    {
      "cell_type": "code",
      "source": [
        "test_dataloader"
      ],
      "metadata": {
        "colab": {
          "base_uri": "https://localhost:8080/"
        },
        "id": "c9YjoqKXQS3p",
        "outputId": "2663dbe1-07f2-4e11-c6f1-0fddafc5f9da"
      },
      "execution_count": 5,
      "outputs": [
        {
          "output_type": "execute_result",
          "data": {
            "text/plain": [
              "<torch.utils.data.dataloader.DataLoader at 0x7fe5d9a33be0>"
            ]
          },
          "metadata": {},
          "execution_count": 5
        }
      ]
    },
    {
      "cell_type": "code",
      "execution_count": 6,
      "metadata": {
        "id": "E8dy7-kBHwco",
        "colab": {
          "base_uri": "https://localhost:8080/",
          "height": 445
        },
        "outputId": "9de5e202-779c-4e1c-8454-946830641789"
      },
      "outputs": [
        {
          "output_type": "execute_result",
          "data": {
            "text/plain": [
              "(-0.5, 27.5, 27.5, -0.5)"
            ]
          },
          "metadata": {},
          "execution_count": 6
        },
        {
          "output_type": "display_data",
          "data": {
            "text/plain": [
              "<Figure size 640x480 with 1 Axes>"
            ],
            "image/png": "[encoded data removed]"
          },
          "metadata": {}
        }
      ],
      "source": [
        "image, target = [*test_dataloader][0]\n",
        "\n",
        "random_index = numpy.random.randint(0, 64)\n",
        "\n",
        "image, target = image[random_index, 0], target[random_index]\n",
        "\n",
        "matplotlib.pyplot.imshow(\n",
        "    image, \n",
        "    cmap=\"gray\", \n",
        "    interpolation=\"nearest\",\n",
        ")\n",
        "\n",
        "matplotlib.pyplot.title(f\"target = {target}\")\n",
        "matplotlib.pyplot.axis(\"off\")"
      ]
    },
    {
      "cell_type": "code",
      "source": [
        "matplotlib.pyplot.imshow(\n",
        "    image)"
      ],
      "metadata": {
        "colab": {
          "base_uri": "https://localhost:8080/",
          "height": 447
        },
        "id": "xpU96a3-Nebs",
        "outputId": "a5af4dff-329c-46a0-edc1-535abf9fc4b4"
      },
      "execution_count": 7,
      "outputs": [
        {
          "output_type": "execute_result",
          "data": {
            "text/plain": [
              "<matplotlib.image.AxesImage at 0x7fe5d777eb00>"
            ]
          },
          "metadata": {},
          "execution_count": 7
        },
        {
          "output_type": "display_data",
          "data": {
            "text/plain": [
              "<Figure size 640x480 with 1 Axes>"
            ],
            "image/png": "[encoded data removed]"
          },
          "metadata": {}
        }
      ]
    },
    {
      "cell_type": "markdown",
      "metadata": {
        "id": "aKbXgidhWr6L"
      },
      "source": [
        "Next, we create a PyTorch dataloader for the MNIST dataset."
      ]
    },
    {
      "cell_type": "code",
      "source": [
        "import torch\n",
        "from torch.utils.data import Dataset\n",
        "from torchvision import datasets\n",
        "from torchvision.transforms import ToTensor\n",
        "import matplotlib.pyplot as plt\n",
        "\n",
        "\n",
        "training_data = datasets.MNIST(\n",
        "    root=\"data\",\n",
        "    train=True,\n",
        "    download=True,\n",
        "    transform=ToTensor()\n",
        ")\n",
        "\n",
        "test_data = datasets.MNIST(\n",
        "    root=\"data\",\n",
        "    train=False,\n",
        "    download=True,\n",
        "    transform=ToTensor()\n",
        ")"
      ],
      "metadata": {
        "colab": {
          "base_uri": "https://localhost:8080/"
        },
        "id": "Yca-JL_mOmO3",
        "outputId": "ce6939e2-bb06-473e-e402-13ce03b5d018"
      },
      "execution_count": 8,
      "outputs": [
        {
          "output_type": "stream",
          "name": "stdout",
          "text": [
            "Downloading http://yann.lecun.com/exdb/mnist/train-images-idx3-ubyte.gz\n",
            "Downloading http://yann.lecun.com/exdb/mnist/train-images-idx3-ubyte.gz to data/MNIST/raw/train-images-idx3-ubyte.gz\n"
          ]
        },
        {
          "output_type": "stream",
          "name": "stderr",
          "text": [
            "100%|██████████| 9912422/9912422 [00:00<00:00, 84835059.07it/s]\n"
          ]
        },
        {
          "output_type": "stream",
          "name": "stdout",
          "text": [
            "Extracting data/MNIST/raw/train-images-idx3-ubyte.gz to data/MNIST/raw\n",
            "\n",
            "Downloading http://yann.lecun.com/exdb/mnist/train-labels-idx1-ubyte.gz\n",
            "Downloading http://yann.lecun.com/exdb/mnist/train-labels-idx1-ubyte.gz to data/MNIST/raw/train-labels-idx1-ubyte.gz\n"
          ]
        },
        {
          "output_type": "stream",
          "name": "stderr",
          "text": [
            "100%|██████████| 28881/28881 [00:00<00:00, 55439676.81it/s]\n"
          ]
        },
        {
          "output_type": "stream",
          "name": "stdout",
          "text": [
            "Extracting data/MNIST/raw/train-labels-idx1-ubyte.gz to data/MNIST/raw\n",
            "\n",
            "Downloading http://yann.lecun.com/exdb/mnist/t10k-images-idx3-ubyte.gz\n",
            "Downloading http://yann.lecun.com/exdb/mnist/t10k-images-idx3-ubyte.gz to data/MNIST/raw/t10k-images-idx3-ubyte.gz\n"
          ]
        },
        {
          "output_type": "stream",
          "name": "stderr",
          "text": [
            "100%|██████████| 1648877/1648877 [00:00<00:00, 27149889.67it/s]\n"
          ]
        },
        {
          "output_type": "stream",
          "name": "stdout",
          "text": [
            "Extracting data/MNIST/raw/t10k-images-idx3-ubyte.gz to data/MNIST/raw\n",
            "\n",
            "Downloading http://yann.lecun.com/exdb/mnist/t10k-labels-idx1-ubyte.gz\n",
            "Downloading http://yann.lecun.com/exdb/mnist/t10k-labels-idx1-ubyte.gz to data/MNIST/raw/t10k-labels-idx1-ubyte.gz\n"
          ]
        },
        {
          "output_type": "stream",
          "name": "stderr",
          "text": [
            "100%|██████████| 4542/4542 [00:00<00:00, 12525002.48it/s]"
          ]
        },
        {
          "output_type": "stream",
          "name": "stdout",
          "text": [
            "Extracting data/MNIST/raw/t10k-labels-idx1-ubyte.gz to data/MNIST/raw\n",
            "\n"
          ]
        },
        {
          "output_type": "stream",
          "name": "stderr",
          "text": [
            "\n"
          ]
        }
      ]
    },
    {
      "cell_type": "code",
      "source": [
        "figure = plt.figure(figsize=(3, 3))\n",
        "\n",
        "sample_idx = torch.randint(len(training_data), size=(1,)).item()\n",
        "img, label = training_data[sample_idx]\n",
        "plt.title(label)\n",
        "plt.axis(\"off\")\n",
        "plt.imshow(img.squeeze(), cmap=\"gray\")\n",
        "plt.show()"
      ],
      "metadata": {
        "colab": {
          "base_uri": "https://localhost:8080/",
          "height": 290
        },
        "id": "UVPrfPZcPxM2",
        "outputId": "f8215d54-f2bc-4a0f-9782-fccca39464f9"
      },
      "execution_count": 9,
      "outputs": [
        {
          "output_type": "display_data",
          "data": {
            "text/plain": [
              "<Figure size 300x300 with 1 Axes>"
            ],
            "image/png": "[encoded data removed]"
          },
          "metadata": {}
        }
      ]
    },
    {
      "cell_type": "code",
      "source": [
        "sample_idx"
      ],
      "metadata": {
        "colab": {
          "base_uri": "https://localhost:8080/"
        },
        "id": "JrKleuMERWYa",
        "outputId": "f28170c2-5880-4cd6-8c3c-66d44d31addc"
      },
      "execution_count": 10,
      "outputs": [
        {
          "output_type": "execute_result",
          "data": {
            "text/plain": [
              "50353"
            ]
          },
          "metadata": {},
          "execution_count": 10
        }
      ]
    },
    {
      "cell_type": "markdown",
      "metadata": {
        "id": "liekFZzvYX9E"
      },
      "source": [
        "Next, implement a logistic regression model in PyTorch. Note that a logistic regressor uses a linear transformation of the input.\n"
      ]
    },
    {
      "cell_type": "markdown",
      "metadata": {
        "id": "s9y8NXUtI3U_"
      },
      "source": [
        "## Exercise 1. Logistic Regression Module"
      ]
    },
    {
      "cell_type": "code",
      "execution_count": 11,
      "metadata": {
        "id": "zEw5YorSYkWF"
      },
      "outputs": [],
      "source": [
        "class LogisticRegression(Module):\n",
        "  def __init__(self, input_size: int, num_classes: int):\n",
        "    super(LogisticRegression, self).__init__()\n",
        "    self.y = torch.nn.Linear(input_size, num_classes)\n",
        "    #self.ReLU = nn.\n",
        "#         ###########################################################################\n",
        "#         # TODO: Instantiate the layer here.                                       #\n",
        "#         ###########################################################################\n",
        "# \n",
        "  def forward(self, x: Tensor) -> Tensor:\n",
        "        ###########################################################################\n",
        "         # TODO: Apply the layer to the input.                                     #\n",
        "        ###########################################################################\n",
        "        linear = self.y(x)\n",
        "\n",
        "        return linear"
      ]
    },
    {
      "cell_type": "code",
      "execution_count": 12,
      "metadata": {
        "id": "V0uLHQk-I3U_"
      },
      "outputs": [],
      "source": [
        "module = LogisticRegression(28 * 28, 10)\n",
        "\n",
        "module = module.to(device=DEVICE)"
      ]
    },
    {
      "cell_type": "code",
      "execution_count": 13,
      "metadata": {
        "id": "BVNJi1-AI3U_"
      },
      "outputs": [],
      "source": [
        "###########################################################################\n",
        "# TODO: Create criterion and optimizer here.                              #\n",
        "###########################################################################\n",
        "\n",
        "learning_rate = 0.001\n",
        "\n",
        "criterion = torch.nn.CrossEntropyLoss()\n",
        "\n",
        "optimizer = torch.optim.Adam(module.parameters(), lr = 0.001)"
      ]
    },
    {
      "cell_type": "markdown",
      "metadata": {
        "id": "qtKxG0WXI3U_"
      },
      "source": [
        "## Training"
      ]
    },
    {
      "cell_type": "markdown",
      "metadata": {
        "id": "b8DFEYLVI3VA"
      },
      "source": [
        "We will use the following generic training loop for a PyTorch model."
      ]
    },
    {
      "cell_type": "code",
      "execution_count": 14,
      "metadata": {
        "id": "qVyEKl3OZLJw",
        "colab": {
          "base_uri": "https://localhost:8080/"
        },
        "outputId": "055e408a-f010-4768-c944-5f7bc17ba248"
      },
      "outputs": [
        {
          "output_type": "stream",
          "name": "stdout",
          "text": [
            "Train Epoch: 0 [0/60000 (0%)]\tLoss: 2.374870\n",
            "Train Epoch: 0 [32000/60000 (53%)]\tLoss: 0.470170\n",
            "Train Epoch: 1 [0/60000 (0%)]\tLoss: 0.356043\n",
            "Train Epoch: 1 [32000/60000 (53%)]\tLoss: 0.319870\n",
            "Train Epoch: 2 [0/60000 (0%)]\tLoss: 0.304491\n",
            "Train Epoch: 2 [32000/60000 (53%)]\tLoss: 0.294911\n",
            "Train Epoch: 3 [0/60000 (0%)]\tLoss: 0.288189\n",
            "Train Epoch: 3 [32000/60000 (53%)]\tLoss: 0.279614\n",
            "Train Epoch: 4 [0/60000 (0%)]\tLoss: 0.275237\n",
            "Train Epoch: 4 [32000/60000 (53%)]\tLoss: 0.271919\n"
          ]
        }
      ],
      "source": [
        "# Train the model. If everything is correct, the loss should go below 0.45.\n",
        "\n",
        "EPOCHS = 5\n",
        "\n",
        "# Exponential moving average of the loss:\n",
        "ema = None\n",
        "\n",
        "for epoch in range(EPOCHS):\n",
        "    for batch_index, (train_images, train_targets) in enumerate(train_dataloader):\n",
        "        train_images = train_images.view(-1, 28 * 28).requires_grad_().to(device=DEVICE)\n",
        "\n",
        "        train_targets = train_targets.to(device=DEVICE)\n",
        "\n",
        "        # Clear gradients w.r.t. parameters\n",
        "        optimizer.zero_grad()\n",
        "\n",
        "        # Forward pass to get output/logits\n",
        "        outputs = module(train_images)\n",
        "\n",
        "        # Calculate Loss: softmax --> cross entropy loss\n",
        "        loss = criterion(outputs, train_targets)\n",
        "\n",
        "        # Getting gradients w.r.t. parameters\n",
        "        loss.backward()\n",
        "\n",
        "        # Updates parameters:\n",
        "        optimizer.step()\n",
        "\n",
        "        # NOTE: It is important to call .item() on the loss before summing.\n",
        "        if ema is None:\n",
        "            ema = loss.item()\n",
        "        else:\n",
        "            ema += (loss.item() - ema) * 0.01\n",
        "\n",
        "        if batch_index % 500 == 0:\n",
        "            print(\n",
        "                \"Train Epoch: {} [{}/{} ({:.0f}%)]\\tLoss: {:.6f}\".format(\n",
        "                    epoch,\n",
        "                    batch_index * len(train_images),\n",
        "                    len(train_dataloader.dataset),\n",
        "                    100.0 * batch_index / len(train_dataloader),\n",
        "                    ema,\n",
        "                ),\n",
        "            )"
      ]
    },
    {
      "cell_type": "markdown",
      "metadata": {
        "id": "oN8qTuGkZ-3X"
      },
      "source": [
        "**Question:** For the model you are currently using, is there any difference between using the model in `train` mode or using it in `eval` mode? \n",
        "\n",
        "Create an SGD optimizer and us it to train the logistic regressor on the MNIST training data for a few epochs. What loss function do you need to use?"
      ]
    },
    {
      "cell_type": "markdown",
      "metadata": {
        "id": "x0QN7Mhiar7d"
      },
      "source": [
        "### Embeddings \n",
        "\n",
        "Visualize the weights of the trained model. What do you see? Why?"
      ]
    },
    {
      "cell_type": "code",
      "execution_count": 15,
      "metadata": {
        "id": "lYrNfywaI3VB"
      },
      "outputs": [],
      "source": [
        "assert module.y.weight.shape == (10, 28 * 28)"
      ]
    },
    {
      "cell_type": "code",
      "execution_count": 19,
      "metadata": {
        "id": "gxletH44a4MX",
        "colab": {
          "base_uri": "https://localhost:8080/",
          "height": 256
        },
        "outputId": "8fb5f99a-38e5-4d78-b98f-eeaf56d6e34a"
      },
      "outputs": [
        {
          "output_type": "execute_result",
          "data": {
            "text/plain": [
              "(-0.5, 151.5, 61.5, -0.5)"
            ]
          },
          "metadata": {},
          "execution_count": 19
        },
        {
          "output_type": "display_data",
          "data": {
            "text/plain": [
              "<Figure size 640x480 with 1 Axes>"
            ],
            "image/png": "[encoded data removed]"
          },
          "metadata": {}
        }
      ],
      "source": [
        "matplotlib.pyplot.imshow(\n",
        "    numpy.transpose(\n",
        "        torchvision.utils.make_grid(\n",
        "            module.y.weight.cpu().view(10, 1, 28, 28),\n",
        "            normalize=True,\n",
        "            nrow=5,\n",
        "        ), \n",
        "        (1, 2, 0),\n",
        "    ), \n",
        "    interpolation=\"nearest\",\n",
        ")\n",
        "\n",
        "matplotlib.pyplot.grid(False)\n",
        "matplotlib.pyplot.gca().axis(\"off\")"
      ]
    },
    {
      "cell_type": "markdown",
      "metadata": {
        "id": "IIA2f4YOI3VB"
      },
      "source": [
        "## Evaluation"
      ]
    },
    {
      "cell_type": "markdown",
      "metadata": {
        "id": "Lxf5NxQ6a5cT"
      },
      "source": [
        "Use the following function to measure the test accuracy of your trained model."
      ]
    },
    {
      "cell_type": "code",
      "execution_count": 18,
      "metadata": {
        "id": "8UYWbqZYa9Qr",
        "colab": {
          "base_uri": "https://localhost:8080/"
        },
        "outputId": "640f52f8-34d6-4f9a-eb30-2fa942db5c0a"
      },
      "outputs": [
        {
          "output_type": "execute_result",
          "data": {
            "text/plain": [
              "0.9259"
            ]
          },
          "metadata": {},
          "execution_count": 18
        }
      ],
      "source": [
        "correct_predictions = 0\n",
        "predictions = 0\n",
        "\n",
        "# Iterate through test dataset\n",
        "for test_images, test_targets in test_dataloader:\n",
        "    test_images = test_images.view(-1, 28 * 28).to(DEVICE)\n",
        "\n",
        "    # Forward pass only to get logits/output\n",
        "    outputs = module(test_images)\n",
        "\n",
        "    # Get predictions from the maximum value\n",
        "    _, predicted = torch.max(outputs.data, 1)\n",
        "\n",
        "    predictions += test_targets.size(0)\n",
        "\n",
        "    if torch.cuda.is_available():\n",
        "        correct_predictions += (predicted.cpu() == test_targets.cpu()).sum()\n",
        "    else:\n",
        "        correct_predictions += (predicted == test_targets).sum()\n",
        "\n",
        "correct_predictions.item() / predictions"
      ]
    },
    {
      "cell_type": "code",
      "source": [],
      "metadata": {
        "id": "gVDocg8vhgCm"
      },
      "execution_count": null,
      "outputs": []
    }
  ],
  "metadata": {
    "colab": {
      "provenance": [],
      "include_colab_link": true
    },
    "kernelspec": {
      "display_name": "convnet_tutorials",
      "language": "python",
      "name": "convnet_tutorials"
    },
    "language_info": {
      "codemirror_mode": {
        "name": "ipython",
        "version": 3
      },
      "file_extension": ".py",
      "mimetype": "text/x-python",
      "name": "python",
      "nbconvert_exporter": "python",
      "pygments_lexer": "ipython3",
      "version": "3.9.10"
    },
    "gpuClass": "standard"
  },
  "nbformat": 4,
  "nbformat_minor": 0
}